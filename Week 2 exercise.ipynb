{
 "cells": [
  {
   "cell_type": "markdown",
   "id": "2e609839",
   "metadata": {},
   "source": [
    "# Let's start"
   ]
  },
  {
   "cell_type": "code",
   "execution_count": null,
   "id": "4590d541",
   "metadata": {},
   "outputs": [],
   "source": [
    "print(\"Hello World\")"
   ]
  },
  {
   "cell_type": "code",
   "execution_count": null,
   "id": "85893637",
   "metadata": {},
   "outputs": [],
   "source": [
    "greeting = \"Hello World\"\n",
    "print(greeting)"
   ]
  },
  {
   "cell_type": "code",
   "execution_count": null,
   "id": "6334ca03",
   "metadata": {},
   "outputs": [],
   "source": [
    "a = 1\n",
    "print(a)"
   ]
  },
  {
   "cell_type": "code",
   "execution_count": null,
   "id": "c3f2f6c4",
   "metadata": {},
   "outputs": [],
   "source": [
    "greeting = input(\"Suggest a greeting\\n\")\n",
    "print(greeting)"
   ]
  },
  {
   "cell_type": "markdown",
   "id": "8e513e95",
   "metadata": {},
   "source": [
    "# Read file"
   ]
  },
  {
   "cell_type": "code",
   "execution_count": null,
   "id": "7ef50dfd",
   "metadata": {},
   "outputs": [],
   "source": [
    "#!pip install pandas\n",
    "#!pip install xlrd\n",
    "#!pip install openpyxl\n",
    "import pandas as pd\n",
    "tseries = pd.read_excel(\"Week 1 data forlab1.xlsx\")\n",
    "tseries = tseries.rename(columns={\"Unnamed: 0\" : 'Date'})\n",
    "tseries.head()"
   ]
  },
  {
   "cell_type": "markdown",
   "id": "3b1228d5",
   "metadata": {},
   "source": [
    "# Check type of object"
   ]
  },
  {
   "cell_type": "code",
   "execution_count": null,
   "id": "6c7b4e1d",
   "metadata": {},
   "outputs": [],
   "source": [
    "print(tseries.loc[0,'Date'])\n",
    "type(tseries.loc[0,'Date'])"
   ]
  },
  {
   "cell_type": "code",
   "execution_count": null,
   "id": "0809e813",
   "metadata": {},
   "outputs": [],
   "source": [
    "print(tseries.loc[0,'GDP'])\n",
    "type(tseries.loc[0,'GDP'])"
   ]
  },
  {
   "cell_type": "markdown",
   "id": "33bf6992",
   "metadata": {},
   "source": [
    "# Plot"
   ]
  },
  {
   "cell_type": "code",
   "execution_count": null,
   "id": "61d38e4a",
   "metadata": {},
   "outputs": [],
   "source": [
    "#!pip install matplotlib\n",
    "import matplotlib.pyplot as plt\n",
    "\n",
    "plt.figure(figsize=(20, 10), dpi=80)\n",
    "plt.plot(tseries['Date'], tseries['GDP'], label = \"GDP\")\n",
    "plt.legend()\n",
    "plt.xlabel('Date')\n",
    "plt.ylabel('GDP')\n",
    "plt.title('GDP')\n",
    "#plt.savefig(\"GDPplot.pdf\") #save plot as pdf file"
   ]
  },
  {
   "cell_type": "code",
   "execution_count": null,
   "id": "4b3ac552",
   "metadata": {},
   "outputs": [],
   "source": [
    "#EXERCISE#\n",
    "#!pip install matplotlib\n",
    "#import matplotlib.pyplot as plt\n",
    "\n",
    "plt.figure(figsize=(20, 10), dpi=80)\n",
    "plt.plot(tseries['Date'], tseries['GDP'], label = \"GDP\")\n",
    "plt.plot(tseries['Date'], tseries['PCE'], label = \"PCE\")\n",
    "plt.legend()\n",
    "plt.xlabel('Date')\n",
    "plt.ylabel('Series')\n",
    "plt.title('Series')\n",
    "#plt.savefig(\"GDPplot.pdf\") #save plot as pdf file"
   ]
  },
  {
   "cell_type": "markdown",
   "id": "8853858c",
   "metadata": {},
   "source": [
    "# Descriptive Stats"
   ]
  },
  {
   "cell_type": "code",
   "execution_count": null,
   "id": "02d1c302",
   "metadata": {},
   "outputs": [],
   "source": [
    "stats = tseries.describe()\n",
    "print(stats)"
   ]
  },
  {
   "cell_type": "code",
   "execution_count": null,
   "id": "e51df73b",
   "metadata": {},
   "outputs": [],
   "source": [
    "stats = tseries.describe().transpose()\n",
    "print(stats)"
   ]
  },
  {
   "cell_type": "markdown",
   "id": "002a1055",
   "metadata": {},
   "source": [
    "# Matrix and Vector"
   ]
  },
  {
   "cell_type": "code",
   "execution_count": null,
   "id": "6677fc7a",
   "metadata": {},
   "outputs": [],
   "source": [
    "#!pip install numpy\n",
    "\n",
    "import numpy as np\n",
    "vector1 = np.array([0.5,0.9,0.4])\n",
    "print(vector1)"
   ]
  },
  {
   "cell_type": "code",
   "execution_count": null,
   "id": "f044e02c",
   "metadata": {},
   "outputs": [],
   "source": [
    "vector2 = np.array([[0.5,0.9,0.4]]).T\n",
    "print(vector2)"
   ]
  },
  {
   "cell_type": "code",
   "execution_count": null,
   "id": "e3a1113e",
   "metadata": {},
   "outputs": [],
   "source": [
    "vectornan = np.empty((1,2))\n",
    "vectornan[:] = np.NaN\n",
    "print(vectornan)"
   ]
  },
  {
   "cell_type": "code",
   "execution_count": null,
   "id": "f2de0395",
   "metadata": {},
   "outputs": [],
   "source": [
    "emptymatrix = np.empty((2,2))\n",
    "emptymatrix[:] = np.NaN\n",
    "print(emptymatrix)"
   ]
  },
  {
   "cell_type": "code",
   "execution_count": null,
   "id": "8d994eda",
   "metadata": {},
   "outputs": [],
   "source": [
    "#This is the element by element product and not the product that you usually need to do in linear algebra\n",
    "product = vector1*vector2\n",
    "print(product)"
   ]
  },
  {
   "cell_type": "code",
   "execution_count": null,
   "id": "5da059ef-4324-4900-99e7-a4a50ff100dc",
   "metadata": {},
   "outputs": [],
   "source": [
    "#This is the dot product. The one usally needed.\n",
    "np.dot(vector1,vector2)"
   ]
  },
  {
   "cell_type": "code",
   "execution_count": null,
   "id": "cbe4778e",
   "metadata": {},
   "outputs": [],
   "source": [
    "difference = np.subtract(vector1, vector2.T)\n",
    "print(difference.T)"
   ]
  },
  {
   "cell_type": "code",
   "execution_count": null,
   "id": "b0e0a6af",
   "metadata": {},
   "outputs": [],
   "source": [
    "sum = np.add(vector1, vector2.T)\n",
    "print(sum)"
   ]
  },
  {
   "cell_type": "markdown",
   "id": "98eb0f27",
   "metadata": {},
   "source": [
    "# Loops"
   ]
  },
  {
   "cell_type": "code",
   "execution_count": null,
   "id": "b0b87fd8",
   "metadata": {},
   "outputs": [],
   "source": [
    "count = 0\n",
    "while count < 5:\n",
    "    print(count)\n",
    "    count += 1 #count = count+1\n",
    "    #inside the loop\n",
    "#outside the loop"
   ]
  },
  {
   "cell_type": "code",
   "execution_count": null,
   "id": "525d622f",
   "metadata": {},
   "outputs": [],
   "source": [
    "for j in range(len(vector1)):\n",
    "    print(vector1[j])"
   ]
  }
 ],
 "metadata": {
  "kernelspec": {
   "display_name": "Python 3 (ipykernel)",
   "language": "python",
   "name": "python3"
  },
  "language_info": {
   "codemirror_mode": {
    "name": "ipython",
    "version": 3
   },
   "file_extension": ".py",
   "mimetype": "text/x-python",
   "name": "python",
   "nbconvert_exporter": "python",
   "pygments_lexer": "ipython3",
   "version": "3.12.4"
  }
 },
 "nbformat": 4,
 "nbformat_minor": 5
}
